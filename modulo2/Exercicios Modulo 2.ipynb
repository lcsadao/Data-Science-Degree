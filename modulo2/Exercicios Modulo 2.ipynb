{
 "cells": [
  {
   "cell_type": "markdown",
   "id": "700f85fc-984e-40f0-afe6-ae55e721d223",
   "metadata": {},
   "source": [
    "Crie uma classe Bola cujos atributos são cor e raio. Crie um método que imprime a cor da bola. Crie um método para calcular a área dessa bola. Crie um método para calcular o volume da bola. Crie um objeto dessa classe e calcule a área e o volume, imprimindo ambos em seguida.\n",
    "\n",
    "Obs.:\n",
    "\n",
    "Área da esfera = 4*3.14*r*r;\n",
    "\n",
    "Volume da esfera = 4*3.14*r*r*r/3"
   ]
  },
  {
   "cell_type": "code",
   "execution_count": 6,
   "id": "290b3e3c-52f5-48d1-b301-d195d1358308",
   "metadata": {},
   "outputs": [
    {
     "data": {
      "text/plain": [
       "(4188.0, 1256.6399999999999)"
      ]
     },
     "execution_count": 6,
     "metadata": {},
     "output_type": "execute_result"
    }
   ],
   "source": [
    "class Ball:\n",
    "    \n",
    "    def __init__(self, color, radius):\n",
    "        \n",
    "        self.color = color\n",
    "        self.radius = radius\n",
    "        \n",
    "\n",
    "    def show_color(self):\n",
    "        \n",
    "        return self.color\n",
    "\n",
    "        \n",
    "    def volume(self):\n",
    "        \n",
    "        self.volume = 4 * 3.1416 * (self.radius ** 3) // 3\n",
    "        \n",
    "        return self.volume\n",
    "        \n",
    "    def area(self):\n",
    "\n",
    "        self.area = 4 * 3.1416 * (self.radius ** 2)\n",
    "        \n",
    "        return self.area\n",
    "        \n",
    "    \n",
    "        \n",
    "    \n",
    "        \n",
    "bola = ball( color = 'Blue',\n",
    "             radius = 10)       \n",
    "        \n",
    "\n",
    "\n",
    "bola.volume(), bola.area()\n"
   ]
  },
  {
   "cell_type": "markdown",
   "id": "70006fd6-26ce-493f-bc41-941222cc5498",
   "metadata": {},
   "source": [
    "Crie uma classe Retângulo cujos atributos são lado_a e lado_b. Crie um método para calcular a área desse retângulo. Crie um objeto dessa classe e calcule a área e a imprima em seguida."
   ]
  },
  {
   "cell_type": "code",
   "execution_count": 9,
   "id": "d03acffc-7cbb-44ec-9da0-a3de7db3509b",
   "metadata": {},
   "outputs": [
    {
     "data": {
      "text/plain": [
       "52.5"
      ]
     },
     "execution_count": 9,
     "metadata": {},
     "output_type": "execute_result"
    }
   ],
   "source": [
    "class Rectangle:\n",
    "    \n",
    "    def __init__(self, a_side, b_side):\n",
    "        \n",
    "        self.a_side = a_side\n",
    "        self.b_side = b_side\n",
    "        \n",
    "    def show_area(self):\n",
    "        \n",
    "        self.area = self.a_side * self.b_side\n",
    "        \n",
    "        return self.area\n",
    "    \n",
    "\n",
    "retangulo = Rectangle(a_side = 15,\n",
    "                     b_side = 3.5)\n",
    "\n",
    "retangulo.show_area()"
   ]
  },
  {
   "cell_type": "markdown",
   "id": "92403950-90d8-4513-a989-f9a8ea789fcb",
   "metadata": {},
   "source": [
    "Crie uma classe Funcionario cujos atributos são nome e e-mail. Guarde as horas trabalhadas em um dicionário cujas chaves são o mês em questão e, em outro dicionário, guarde o salário por hora relativo ao mês em questão. Crie um método que retorna o salário mensal do funcionário."
   ]
  },
  {
   "cell_type": "code",
   "execution_count": 21,
   "id": "6e762d61-a74d-402d-9b0d-ccd3dda8f1bd",
   "metadata": {},
   "outputs": [
    {
     "data": {
      "text/plain": [
       "1200"
      ]
     },
     "execution_count": 21,
     "metadata": {},
     "output_type": "execute_result"
    }
   ],
   "source": [
    "class Employee:\n",
    "    \n",
    "    def __init__(self, name, email):\n",
    "        \n",
    "        self.name = name\n",
    "        self.email = email\n",
    "        \n",
    "        work_hours = {\"November\" : 150}\n",
    "        salary_per_hour = {\"November\" : 8}\n",
    "        \n",
    "        self.work_hours = work_hours\n",
    "        self.salary_per_hours = salary_per_hour\n",
    "        \n",
    "    def show_salary(self):\n",
    "        \n",
    "        self.show_salary = self.work_hours[\"November\"] * self.salary_per_hours[\"November\"]\n",
    "        \n",
    "        return self.show_salary\n",
    "    \n",
    "Lucas = Employee(name = \"Lucas\",\n",
    "                 email = \"lucas2614@outlook.com\")\n",
    "\n",
    "Lucas.show_salary()\n",
    "    "
   ]
  },
  {
   "cell_type": "markdown",
   "id": "00977a64-bf28-4861-bc88-c9bab22b46cc",
   "metadata": {},
   "source": [
    "Crie uma classe Televisor cujos atributos são:\n",
    "\n",
    "a. fabricante;\n",
    "\n",
    "b. modelo;\n",
    "\n",
    "c. canal atual;\n",
    "\n",
    "d. lista de canais; e\n",
    "\n",
    "e. volume.\n",
    "\n",
    "Faça métodos para aumentar/diminuir volume, trocar o canal e sintonizar um novo canal, que adiciona um novo canal à lista de canais (somente se esse canal não estiver nessa lista). No atributo lista de canais, devem estar armazenados todos os canais já sintonizados dessa TV.\n",
    "\n",
    "Obs.: O volume não pode ser menor que zero e maior que cem; só se pode trocar para um canal que já esteja na lista de canais."
   ]
  },
  {
   "cell_type": "code",
   "execution_count": 19,
   "id": "57e0be68-0e49-4811-bac2-b3d7613904dc",
   "metadata": {},
   "outputs": [],
   "source": [
    "import random\n",
    "\n",
    "class Televisor:\n",
    "    \n",
    "    def __init__(self, manufacturer, model, current_channel = random.randint(1,10)):\n",
    "        \n",
    "        self.manufacturer = manufacturer\n",
    "        self.model = model\n",
    "        self.current_channel = current_channel\n",
    "        self.volume = 0\n",
    "        self.channel_list = [current_channel]\n",
    "        \n",
    "    def up_volume(self):\n",
    "        \n",
    "        if self.volume == 100:\n",
    "            return 'Volume máximo!'\n",
    "        else:\n",
    "            self.volume += 1\n",
    "    \n",
    "    def down_volume(self):\n",
    "        \n",
    "        if self.volume == 0:\n",
    "            return 'Volume mínimo!'\n",
    "        else:\n",
    "            self.volume -= 1\n",
    "    \n",
    "    def switch_channel(self,channel):\n",
    "        \n",
    "        if channel not in self.channel_list:\n",
    "            return 'Canal não existe!'\n",
    "        \n",
    "        else:\n",
    "            self.current_channel = channel\n",
    "    \n",
    "    def new_channel(self, new_channel):\n",
    "        \n",
    "        if new_channel in self.channel_list:\n",
    "            return 'Canal já sintonizado!'\n",
    "        \n",
    "        return self.channel_list.append(new_channel)\n",
    "    \n",
    "TV = Televisor('Toshiba', 'XXZZXX')    "
   ]
  },
  {
   "cell_type": "markdown",
   "id": "a302c5e4-6245-419a-8a7d-3cd743e9ffda",
   "metadata": {},
   "source": [
    "Crie uma classe ControleRemoto cujo atributo é televisão (isso é, recebe um objeto da classe do exercício 4). Crie métodos para aumentar/diminuir volume, trocar o canal e sintonizar um novo canal, que adiciona um novo canal à lista de canais (somente se esse canal não estiver nessa lista)."
   ]
  },
  {
   "cell_type": "code",
   "execution_count": null,
   "id": "e060e699-bcdf-493b-8b58-c908ddbdd0ba",
   "metadata": {},
   "outputs": [],
   "source": [
    "class Controller:\n",
    "    \n",
    "    def __init__(self,Televisor):\n",
    "        \n",
    "        self.televisor = Televisor\n",
    "        \n",
    "    def up_volume(self):\n",
    "        if self.televisor.volume == 100:\n",
    "            return 'Volume máximo!'\n",
    "        else:\n",
    "            self.televisor.volume += 1\n",
    "    def down_volume(self):\n",
    "        if self.televisor.volume == 0:\n",
    "            return 'Volume zero!'\n",
    "        else:\n",
    "            self.televisor.volume -= 1\n",
    "    \n",
    "    def switch_channel(self, channel):\n",
    "        if channel not in self.televisor.channel_list:\n",
    "            return 'Canal inexistente!'\n",
    "        else:\n",
    "            self.televisor.current_channel = channel\n",
    "            \n",
    "    def new_channel(self, new_channel):\n",
    "        \n",
    "        if new_channel in self.televisor.channel_list:\n",
    "            return 'Canal já existe!'\n",
    "        else:\n",
    "            self.televisor.channel_list.append(new_channel)\n",
    "            \n",
    "     \n",
    "Controle = Controller(TV)"
   ]
  },
  {
   "cell_type": "markdown",
   "id": "c47411b5-648e-4d92-bf3f-ebc77382d335",
   "metadata": {},
   "source": [
    "O módulo time possui a função time.sleep(x), que faz seu programa “dormir” por x segundos. Utilizando essa função, crie uma classe Cronômetro e faça um programa que cronometre o tempo."
   ]
  },
  {
   "cell_type": "code",
   "execution_count": 24,
   "id": "7133e452-4115-4b71-9a26-7d57443c7f2e",
   "metadata": {},
   "outputs": [],
   "source": [
    "import time\n",
    "\n",
    "\n",
    "class Cronometer:\n",
    "\n",
    "    \n",
    "    def __init__(self):\n",
    "        \n",
    "        self.hours = 0\n",
    "        self.minutes = 0\n",
    "        self.seconds = 0\n",
    "        \n",
    "        \n",
    "    def start(self):\n",
    "        \n",
    "        input('Aperte ENTER para iniciar o cronômetro!')\n",
    "        return self.run_time()\n",
    "\n",
    "                    \n",
    "\n",
    "    def run_time(self):\n",
    "        \n",
    "        while True:\n",
    "        \n",
    "            try:\n",
    "\n",
    "                time.sleep(1)\n",
    "                self.seconds += 1\n",
    "\n",
    "                if self.seconds == 60:\n",
    "                    self.seconds = 0\n",
    "                    self.minutes += 1\n",
    "\n",
    "                    if self.minutes == 60:\n",
    "                        self.minutes = 0\n",
    "                        self.hours += 1\n",
    "\n",
    "                print(f'{self.hours:02d}:{self.minutes:02d}:{self.seconds:02d}')\n",
    "\n",
    "            except KeyboardInterrupt:\n",
    "\n",
    "                return self.stop()\n",
    "        \n",
    "    def stop(self):\n",
    "        \n",
    "        ask = int(input('1 para continuar a contagem.\\n2 para resetar o cronômetro.\\n'))\n",
    "        \n",
    "        if ask == 1:\n",
    "            return self.run_time()\n",
    "        elif ask == 2:\n",
    "            self.hours = 0\n",
    "            self.minutes = 0\n",
    "            self.seconds = 0\n",
    "            \n",
    "            return self.start()\n",
    "            \n",
    "            \n",
    "                \n",
    "\n",
    "Cronometro = Cronometer()\n",
    "\n"
   ]
  },
  {
   "cell_type": "code",
   "execution_count": null,
   "id": "dceee5cb-6848-4599-adf8-bfb32044f834",
   "metadata": {
    "tags": []
   },
   "outputs": [],
   "source": [
    "Cronometro.start()\n"
   ]
  },
  {
   "cell_type": "code",
   "execution_count": null,
   "id": "43459120-6db0-40de-9579-8f1b37ebf9d6",
   "metadata": {},
   "outputs": [],
   "source": []
  },
  {
   "cell_type": "markdown",
   "id": "d12999ea-712c-4580-85c1-fd0bfb66758a",
   "metadata": {},
   "source": [
    "Crie uma modelagem de classes para uma agenda capaz de armazenar contatos. Através dessa agenda é possível incluir, remover, buscar e listar contatos já cadastrados."
   ]
  },
  {
   "cell_type": "code",
   "execution_count": 27,
   "id": "572f4499-2768-46cf-9ba9-61d4ad6ef8c3",
   "metadata": {},
   "outputs": [],
   "source": [
    "class Contact:\n",
    "    \n",
    "    def __init__(self, name, phone, email):\n",
    "        \n",
    "        self.name = name\n",
    "        self.phone = phone\n",
    "        self.email = email\n",
    "        \n",
    "    def __repr__(self):\n",
    "        \n",
    "        return f'Nome: {self.name}\\nTelefone: {self.phone}\\nEmail: {self.email}\\n'\n",
    "\n",
    "class Agenda:\n",
    "    \n",
    "    def __init__(self):\n",
    "        \n",
    "        self.list_of_contacts = []\n",
    "        \n",
    "    def add_contact(self, contact):\n",
    "        \n",
    "        if contact in self.list_of_contacts:\n",
    "            return f'{contact.name} já está na Agenda!'\n",
    "        else:\n",
    "            self.list_of_contacts.append(contact)\n",
    "            \n",
    "    def remove_contact(self, contact):\n",
    "        \n",
    "        if contact not in self.list_of_contacts:\n",
    "            return f'{contact.name} não está na agenda!'\n",
    "        else:\n",
    "            self.list_of_contacts.remove(contact)\n",
    "            \n",
    "    def search_contact(self,contact):\n",
    "        if contact not in self.list_of_contacts:\n",
    "            return f'{contact.name} não está na agenda!'\n",
    "        else:\n",
    "            return contact\n",
    "        \n",
    "    def list_contacts(self):\n",
    "        for contact in self.list_of_contacts:\n",
    "            print(contact)\n",
    "\n",
    "Lucas = Contact('Lucas', 33913340, 'lucas2614@outlook.com')\n",
    "Alvaro = Contact('Alvaro', 99331441, 'alvaro@gmail.com')\n",
    "Elton = Contact('Elton', 33119330, 'elton@hotmail.com')\n",
    "\n",
    "Agenda = Agenda()"
   ]
  },
  {
   "cell_type": "markdown",
   "id": "c1515a4c-d5c2-438e-805a-a351646ecfbb",
   "metadata": {},
   "source": [
    "Crie uma classe Cliente cujos atributos são nome, idade e e-mail. Construa um método que imprima as informações tal como abaixo:\n",
    "\n",
    "Nome: Fulano de Tal\n",
    "\n",
    "Idade: 40\n",
    "\n",
    "E-mail: fulano@mail.com"
   ]
  },
  {
   "cell_type": "code",
   "execution_count": 32,
   "id": "c4832377-a1db-4c88-83a7-4a9684fcfa26",
   "metadata": {},
   "outputs": [
    {
     "data": {
      "text/plain": [
       "Nome: Lucas\n",
       "Idade: 25\n",
       "E-mail: lucas2614@outlook.com"
      ]
     },
     "execution_count": 32,
     "metadata": {},
     "output_type": "execute_result"
    }
   ],
   "source": [
    "class Client:\n",
    "    def __init__(self, name, age, email):\n",
    "        \n",
    "        self.name = name\n",
    "        self.age = age\n",
    "        self.email = email\n",
    "        \n",
    "    def __repr__(self):\n",
    "        \n",
    "        return f'Nome: {self.name}\\nIdade: {self.age}\\nE-mail: {self.email}'\n",
    "    \n",
    "    \n",
    "lucas = Client('Lucas', 25, 'lucas2614@outlook.com')\n",
    "\n",
    "lucas"
   ]
  },
  {
   "cell_type": "markdown",
   "id": "73ae8b37-0df0-45d0-89ca-bbd31cd62c3e",
   "metadata": {},
   "source": [
    "\n",
    "Com base no exercício anterior, crie um sistema de cadastro e a classe Cliente. Seu programa deve perguntar se o usuário quer cadastrar um novo cliente, alterar um cadastro ou sair.\n",
    "\n",
    "Dica: Você pode fazer esse exercício criando uma classe Sistema, que irá controlar o sistema de cadastros. Essa classe deve ter o atributo cadastro e os métodos para imprimir os cadastrados, cadastrar um novo cliente, alterar um cadastro ou sair."
   ]
  },
  {
   "cell_type": "code",
   "execution_count": 41,
   "id": "6d19210e-142d-4c08-9887-c371c08ede18",
   "metadata": {},
   "outputs": [
    {
     "name": "stdin",
     "output_type": "stream",
     "text": [
      "Para alterar o nome, digite 1.\n",
      "Para alterar a idade, digite 2.\n",
      "Para alterar o email, digite 3.\n",
      "Se deseja remover o cliente do cadastro, digite 4.\n",
      " 2\n",
      "Digite a nova idade:  15\n"
     ]
    },
    {
     "name": "stdout",
     "output_type": "stream",
     "text": [
      "Nome: Lucas\n",
      "Idade: 25\n",
      "E-mail: lucas2614@outlook.com\n",
      "\n",
      "Nome: Elton\n",
      "Idade: 15\n",
      "E-mail: lucas2614@outlook.com\n",
      "\n"
     ]
    }
   ],
   "source": [
    "import time\n",
    "\n",
    "class Client:\n",
    "    def __init__(self, name, age, email):\n",
    "        \n",
    "        self.name = name\n",
    "        self.age = age\n",
    "        self.email = email\n",
    "        \n",
    "    def __repr__(self):\n",
    "        \n",
    "        return f'Nome: {self.name}\\nIdade: {self.age}\\nE-mail: {self.email}'\n",
    "    \n",
    "class System:\n",
    "    \n",
    "    def __init__(self, cadastro = []):\n",
    "        \n",
    "        self.cadastro = []\n",
    "        \n",
    "    def show_clients(self):\n",
    "        \n",
    "        for client in self.cadastro:\n",
    "            print(f'{client}\\n')\n",
    "            \n",
    "        return \n",
    "    \n",
    "    def add_client(self, client):\n",
    "        \n",
    "        if client in self.cadastro:\n",
    "            return 'Usuário já cadastrado!'\n",
    "        else:\n",
    "            self.cadastro.append(client)\n",
    "            \n",
    "    def modify_client(self, client):\n",
    "        \n",
    "        ask = int(input('Para alterar o nome, digite 1.\\nPara alterar a idade, digite 2.\\nPara alterar o email, digite 3.\\nSe deseja remover o cliente do cadastro, digite 4.\\n'))\n",
    "        \n",
    "        if ask == 1:\n",
    "            client.name = input('Digite o novo nome: ')\n",
    "        elif ask == 2:\n",
    "            client.age = int(input('Digite a nova idade: '))\n",
    "        elif ask == 3:\n",
    "            client.email = input('Digite o novo email:')\n",
    "        elif ask == 4:\n",
    "            self.cadastro.remove(client)\n",
    "            \n",
    "    def exit(self):\n",
    "        \n",
    "        print('Saindo...')\n",
    "        time.sleep(2)\n",
    "        \n",
    "        return exit()\n",
    "    \n",
    "\n",
    "\n",
    "        "
   ]
  },
  {
   "cell_type": "code",
   "execution_count": null,
   "id": "afaca348-af41-42e3-86f9-0a1dcfaee8d5",
   "metadata": {},
   "outputs": [],
   "source": []
  }
 ],
 "metadata": {
  "kernelspec": {
   "display_name": "Python 3",
   "language": "python",
   "name": "python3"
  },
  "language_info": {
   "codemirror_mode": {
    "name": "ipython",
    "version": 3
   },
   "file_extension": ".py",
   "mimetype": "text/x-python",
   "name": "python",
   "nbconvert_exporter": "python",
   "pygments_lexer": "ipython3",
   "version": "3.8.8"
  }
 },
 "nbformat": 4,
 "nbformat_minor": 5
}
