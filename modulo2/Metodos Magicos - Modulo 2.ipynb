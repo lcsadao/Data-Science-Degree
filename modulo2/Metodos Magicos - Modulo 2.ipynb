{
 "cells": [
  {
   "cell_type": "code",
   "execution_count": 41,
   "id": "b6b5d62f-0bf0-40ee-84a3-dbe261a3f308",
   "metadata": {},
   "outputs": [],
   "source": [
    "class Relogio:\n",
    "    def __init__(self, hora, minuto, segundo):\n",
    "        '''\n",
    "        docstring bonitinha\n",
    "        '''\n",
    "        # verificação dos tipos\n",
    "        if not isinstance(hora, int):\n",
    "            raise TypeError('Hora precisa ser do tipo inteiro.') \n",
    "        if not isinstance(minuto, int):\n",
    "            raise TypeError('Minuto precisa ser do tipo inteiro.') \n",
    "        if not isinstance(segundo, int):\n",
    "            raise TypeError('Segundo precisa ser do tipo inteiro.') \n",
    "\n",
    "        # definindo os intervalos\n",
    "        if hora < 0 or hora > 23:\n",
    "            raise ValueError('Hora precisa estar no intervalo de 0-23')\n",
    "        if minuto < 0 or minuto > 59:\n",
    "            raise ValueError('Minuto precisa estar no intervalo de 0-59')\n",
    "        if segundo < 0 or segundo > 59:\n",
    "            raise ValueError('Segundo precisa estar no intervalo de 0-59')\n",
    "\n",
    "        # finalmente criando os atributos\n",
    "        self.hora = hora\n",
    "        self.minuto = minuto\n",
    "        self.segundo = segundo\n",
    "\n",
    "    # representa os objetos da sua classe como string\n",
    "    def __repr__(self):\n",
    "        return f'{self.hora}:{self.minuto}:{self.segundo}'\n",
    "\n",
    "    # representa os objetos da sua classe\n",
    "    # sempre que str(obj) é chamado\n",
    "    def __str__(self):\n",
    "        return f'{self.hora:02d}:{self.minuto:02d}:{self.segundo:02d}'\n",
    "\n",
    "#     def eq(self):\n",
    "#         return self.hora == \n",
    "\n",
    "    def __add__(self, other):\n",
    "        segundo = self.segundo + other.segundo\n",
    "        minuto = self.minuto + other.minuto\n",
    "        hora = self.hora + other.hora\n",
    "        \n",
    "        if segundo > 59:\n",
    "            segundo = segundo - 60\n",
    "            minuto = minuto + 1\n",
    "            \n",
    "        if minuto > 59:\n",
    "            minuto = minuto - 60\n",
    "            hora = hora + 1\n",
    "        \n",
    "        if hora > 23:\n",
    "            hora = hora - 24\n",
    "\n",
    "        soma = Relogio(hora, minuto, segundo)\n",
    "        return soma\n",
    "    \n",
    "    def __sub__(self, other):\n",
    "        segundo = self.segundo - other.segundo\n",
    "        minuto = self.minuto - other.minuto\n",
    "        hora = self.hora - other.hora\n",
    "        \n",
    "        if segundo < 0:\n",
    "            segundo = segundo + 60\n",
    "            minuto = minuto - 1\n",
    "            \n",
    "        if minuto < 0:\n",
    "            minuto = minuto + 60\n",
    "            hora = hora - 1\n",
    "        \n",
    "        if hora < 0:\n",
    "            hora = hora + 24\n",
    "\n",
    "        sub = Relogio(hora, minuto, segundo)\n",
    "        return sub\n",
    "\n",
    "\n",
    "relogio1 = Relogio(1, 0, 0)\n",
    "\n",
    "relogio2 = Relogio(20, 0, 0)\n"
   ]
  },
  {
   "cell_type": "code",
   "execution_count": 42,
   "id": "708098d4-a920-473b-9e67-738853ee2c1e",
   "metadata": {},
   "outputs": [
    {
     "data": {
      "text/plain": [
       "19:0:0"
      ]
     },
     "execution_count": 42,
     "metadata": {},
     "output_type": "execute_result"
    }
   ],
   "source": [
    "relogio2 - relogio1"
   ]
  },
  {
   "cell_type": "code",
   "execution_count": null,
   "id": "56e7cd91-5d39-4915-ab37-661eaa473c36",
   "metadata": {},
   "outputs": [],
   "source": []
  }
 ],
 "metadata": {
  "kernelspec": {
   "display_name": "Python 3",
   "language": "python",
   "name": "python3"
  },
  "language_info": {
   "codemirror_mode": {
    "name": "ipython",
    "version": 3
   },
   "file_extension": ".py",
   "mimetype": "text/x-python",
   "name": "python",
   "nbconvert_exporter": "python",
   "pygments_lexer": "ipython3",
   "version": "3.8.8"
  }
 },
 "nbformat": 4,
 "nbformat_minor": 5
}
