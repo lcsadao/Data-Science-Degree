{
 "cells": [
  {
   "cell_type": "markdown",
   "metadata": {
    "id": "je-TtEy6ewaI"
   },
   "source": [
    "# Organizando uma eleição\n",
    "(créditos ao professor Rafael)"
   ]
  },
  {
   "cell_type": "markdown",
   "metadata": {
    "id": "p_v_vh6cewaL"
   },
   "source": [
    "O último ano foi extremamente desafiador para você. Além de estarmos vivendo uma pandemia que aumentou nossa preocupação com a nossa própria vida e com nossos entes queridos e estarmos obrigados a passar mais tempo em casa para garantir nossa segurança, você se matriculou em um curso de programação e ciência de dados para mudar de rumo em sua carreira!\n",
    "\n",
    "O _timing_ pareceu ideal: mais tempo em casa, mais tempo para estudar. Porém, você esbarrou em algumas dificuldades. O condomínio está em reforma, e você passa o dia ao som de marretadas no piso. Durante a noite, no horário da sua aula online, seus vizinhos - um casal passando por dificuldades na relação - costumam discutir em voz alta. A discussão deles frequentemente acorda o bebê do outro vizinho e todos os cachorros do andar no prédio. Deixar para estudar no final de semana não ajuda, pois o filho adolescente da família do apartamento logo acima do seu costuma trazer os colegas de banda para ensaiar. \n",
    "\n",
    "A situação se tornou insustentável, e o síndico - que é o mesmo senhorzinho desde que você se mudou para esse condomínio, há mais de 10 anos - não toma atitudes e não gosta de ser perturbado. Chegou a hora de organizar uma eleição para um novo síndico, e você tomou a iniciativa de montar um sistema eletrônico para auxiliar na votação."
   ]
  },
  {
   "cell_type": "markdown",
   "metadata": {
    "id": "TDTAjW28ewaL"
   },
   "source": [
    "## Entidades envolvidas\n",
    "\n",
    "Podemos imaginar as seguintes entidades envolvidas na eleição:\n",
    "\n",
    "* **Morador**: representa cada uma das pessoas que moram no prédio. Possui um nome, um Apartamento e é capaz de depositar um voto em um Candidato em uma Urna.\n",
    "* **Candidato**: é um tipo especial de Morador. Possui tudo o que o morador possui, mas também possui um número que será usado para representá-lo na Urna e uma contagem individual de votos.\n",
    "* **Apartamento**: representa cada uma das unidades do prédio. Possui uma lista de moradores e um status indicando se ele já votou ou não. Cada apartamento tem direito a exatamente 1 voto. Se a sua filha já votou, você não pode mais votar!\n",
    "* **Urna**: coleciona votos. Ela possui uma coleção de candidatos e uma coleção de moradores (lembrando que o candidato também conta como morador!). Ela armazena a quantidade de votos de cada candidato e é capaz de incrementar essa quantidade ao receber um voto novo. Ela também possui uma coleção de apartamentos e é capaz de determinar quais apartamentos já votaram (mas não qual apartamento votou em cada candidato - o voto é secreto). Quando o último apartamento votar, ela publica os resultados e declara o vencedor.\n",
    "\n",
    "Vamos pensar juntos em meios de implementar cada uma das classes."
   ]
  },
  {
   "cell_type": "markdown",
   "metadata": {
    "id": "pOyv3Lu6ewaN"
   },
   "source": [
    "### Morador\n",
    "\n",
    "A classe mais básica de nossa eleição, representando cada uma das pessoas que habitam no condomínio. O morador obrigatoriamente possui um nome e um Apartamento.\n",
    "\n",
    "Seu construtor pode ou não receber uma string contendo o nome, e pode ou não receber um objeto Apartamento. Caso ele não receba um nome, deverá solicitar a digitação de um através do input. Caso ele não receba um objeto Apartamento, deverá pedir por input o número do apartamento e criar o objeto.\n",
    "\n",
    "O nome e apartamento digitados ou recebidos deverão se tornar atributos do objeto.\n",
    "\n",
    "Nosso objeto também deverá possuir um método para votar. Ele deverá receber um objeto Urna e pode receber um número inteiro correspondente ao número de um candidato ou, caso não receba, irá ler o número pelo teclado. Ela deverá primeiro verificar se o seu apartamento já votou, e caso não tenha, ela irá chamar o método de acrescentar voto na Urna, informando o número de seu candidato e passando seu objeto apartamento. Caso contrário, ela exibirá uma mensagem alertando que esse apartamento já votou."
   ]
  },
  {
   "cell_type": "code",
   "execution_count": 7,
   "metadata": {
    "id": "Y8dWsmunewaN"
   },
   "outputs": [],
   "source": [
    "class Morador:\n",
    "    def __init__(self, cpf, nome, apartamento, voto = False):\n",
    "        '''\n",
    "        Construtor\n",
    "        \n",
    "        Parametros\n",
    "        -----\n",
    "        cpf = int\n",
    "            CPF do morador cadastrado\n",
    "        nome = str\n",
    "            Nome do morador\n",
    "        apartamento = int\n",
    "            Numero do apartamento do morador\n",
    "        voto = bool\n",
    "            Indica se o morador já votou ou não na eleição\n",
    "        '''\n",
    "       #atributos\n",
    "\n",
    "        self.cpf = cpf\n",
    "        self.nome = nome\n",
    "        self.apartamento = apartamento\n",
    "        self.voto = voto\n",
    "        \n",
    "        #Encapsulamento do atributo voto\n",
    "        @property\n",
    "        def voto (self):\n",
    "            return self.__voto\n",
    "\n",
    "    def votar(self, urna, n_candidato_voto):\n",
    "        '''\n",
    "        Método para o morador deixar seu voto.\n",
    "\n",
    "        Parametros\n",
    "        -----\n",
    "        urna = str\n",
    "            Urna de votação do morador\n",
    "        n_candidato_voto = int\n",
    "            Número do candidato em que o morador irá votar\n",
    "        ''' \n",
    "        #atributos\n",
    "        self.urna = urna\n",
    "        self.n_candidato_voto = n_candidato_voto\n",
    "        self.voto = True\n",
    "    \n",
    "        ## identifica o candidato pelo id dele e atribui as variaveis necessárias\n",
    "        for cpf in sistema.candidatos.keys():\n",
    "            if sistema.candidatos[cpf].id_candidato == self.n_candidato_voto:\n",
    "                urna.receber_votos(sistema.candidatos[cpf], self.apartamento)"
   ]
  },
  {
   "cell_type": "markdown",
   "metadata": {
    "id": "xw_Qz19TewaO"
   },
   "source": [
    "### Candidato\n",
    "\n",
    "Objetos da classe Candidato são, necessariamente, moradores. Eles possuem as mesmas informações e as mesmas ações que um morador. O que isso significa em programação orientada a objeto?\n",
    "\n",
    "Ele possui outros dois atributos: o seu número que será usado para identificá-lo na Urna e sua contagem de votos. Ambos devem ser inicializados com valor 0. \n",
    "\n",
    "Ele deve oferecer métodos para que seu número seja configurado (quando cadastrarmos o candidato na Urna, ela irá fornecer um número para ele), bem como para que sua contagem de votos seja atualizada (ao final da votação, a Urna irá atualizar a contagem de todos os candidatos)."
   ]
  },
  {
   "cell_type": "code",
   "execution_count": 8,
   "metadata": {
    "id": "lgb_I-iAewaP"
   },
   "outputs": [],
   "source": [
    "class Candidato(Morador):\n",
    "    def __init__(self, cpf, nome, apartamento, voto = False, id_candidato = None, votos = 0):\n",
    "        super().__init__(cpf, nome, apartamento, voto = False)\n",
    "        '''\n",
    "        Construtor \n",
    "        Classe filha da classe Morador\n",
    "\n",
    "        Parametros\n",
    "        -----\n",
    "        cpf = int\n",
    "            CPF do morador que se candidatará\n",
    "        nome = str\n",
    "            Nome do morador que se candidatará\n",
    "        apartamento = int\n",
    "            Numero do apartamento do morador que se candidatará\n",
    "        voto = bool\n",
    "            Indica se o voto do morador que se candidatará foi computado\n",
    "        id_candidato = int\n",
    "            Mostra o número identificador do candidato\n",
    "        votos = int\n",
    "            Total de votos computados para o candidato\n",
    "        '''\n",
    "        #atributos\n",
    "        self.id_candidato = id_candidato\n",
    "        self.votos = votos\n",
    "        \n",
    "        #encapsulamento do atributo voto\n",
    "        @property\n",
    "        def voto (self):\n",
    "            return self.__voto"
   ]
  },
  {
   "cell_type": "markdown",
   "metadata": {
    "id": "_QJ63RV4ewaP"
   },
   "source": [
    "### Apartamento\n",
    "\n",
    "Objetos da classe Apartamento irão agregar objetos Morador. Isso significa que um de seus atributos será uma lista de moradores. Quando um Apartamento é criado, sua lista começará vazia. O Apartamento deve oferecer métodos para adicionar moradores novos (recebe um objeto Morador e adiciona à lista) e para visualizar seus moradores.\n",
    "\n",
    "Cada apartamento tem direito a exatamente um voto na eleição para síndico. Portanto, cada objeto também deve ter um atributo indicando se aquele apartamento já votou ou não. A classe deve fornecer meios para que a esse atributo possa ser atualizado, pois quando um morador votar, a urna irá alterar esse atributo registrando que o apartamento já votou."
   ]
  },
  {
   "cell_type": "code",
   "execution_count": 9,
   "metadata": {
    "id": "gNk0Ud3jewaP"
   },
   "outputs": [],
   "source": [
    "class Apartamento:\n",
    "    def __init__(self, n_apt, moradores = [], voto=False):\n",
    "        '''\n",
    "        Construtor\n",
    "\n",
    "        Parametros\n",
    "        -----\n",
    "        n_apt = int\n",
    "            Numero do apartamento\n",
    "        moradores = list\n",
    "            Moradores do apartamento informado\n",
    "        voto = bool\n",
    "            Identifica se o apartamento já teve seu voto computado\n",
    "        '''\n",
    "        #atributos\n",
    "        self.n_apt = n_apt\n",
    "        self.moradores = moradores\n",
    "        self.voto = voto\n",
    "\n",
    "        #Encapsulamento do atributo voto\n",
    "        @property\n",
    "        def voto (self):\n",
    "            return self.__voto\n",
    "            \n",
    "    def visualizar_morador(self):\n",
    "        '''\n",
    "        Método para visualizar um morador especifico dentre os moradores do apartamento\n",
    "        '''\n",
    "        return self.moradores\n",
    "\n",
    "    def cadastrar_morador(self, pessoa):\n",
    "        '''\n",
    "        Método para cadastrar morador ao apartamento.\n",
    "\n",
    "        Paramêtros\n",
    "        ----------\n",
    "        pessoa : obj\n",
    "        Morador ou Candidato que será atribuido para a aquele apartamento.\n",
    "        '''\n",
    "        self.morador = pessoa\n",
    "        pessoa.apartamento = self.n_apt\n",
    "        self.moradores.append(pessoa.nome)"
   ]
  },
  {
   "cell_type": "markdown",
   "metadata": {
    "id": "JL-XufcEewaQ"
   },
   "source": [
    "### Urna\n",
    "A classe mais complexa do projeto. Ela é responsável por boa parte da lógica da nossa eleição.\n",
    "\n",
    "Seu construtor deverá criar como atributos uma coleção de apartamentos e outra de candidatos - escolha a estrutura de dados que julgar mais adequada.\n",
    "\n",
    "A classe deve fornecer métodos que permitam o cadastro de apartamentos (recebendo como parâmetro objetos Apartamento já existentes) e candidatos (idem). Ao receber um candidato para cadastro, ela deverá gerar um número **único** para representar esse candidato na eleição e irá ajustar esse atributo diretamente no objeto candidato.\n",
    "\n",
    "Ela também deve ter um método para receber um voto, que deve receber um objeto apartamento e o número de um candidato. Ela deve atualizar a contagem de voto do candidato cujo número foi recebido, e marcar aquele apartamento como já votado. Se o apartamento que votou era o último que ainda podia votar, a urna deve imediatamente imprimir os resultados.\n",
    "\n",
    "Bole uma maneira que a urna possa sinalizar para o programa principal se ela já encerrou a votação ou não."
   ]
  },
  {
   "cell_type": "code",
   "execution_count": 10,
   "metadata": {
    "id": "CXr-9SMHfxa8"
   },
   "outputs": [],
   "source": [
    "class Urna:\n",
    "\n",
    "    def __init__ (self, sistema):\n",
    "        '''\n",
    "        Construtor\n",
    "\n",
    "        Parametros\n",
    "        -----\n",
    "        sistema : obj\n",
    "            Sistema responsavel por computar os votos e divulgar o resultado\n",
    "        '''\n",
    "        #atributos\n",
    "        self.sistema = sistema\n",
    "        self.apartamentos = lista_apts\n",
    "        self.candidatos = []\n",
    "        \n",
    "\n",
    "    def atribuir_id_candidatos(self):\n",
    "        '''\n",
    "        Método gerador de número identificador de candidatos\n",
    "        '''\n",
    "        i=0\n",
    "        for cpf in sistema.candidatos.keys():\n",
    "            sistema.candidatos[cpf].id_candidato = 100 + i\n",
    "            i+=1\n",
    "\n",
    "            if sistema.candidatos[cpf].id_candidato not in self.candidatos:\n",
    "                self.candidatos.append(sistema.candidatos[cpf].id_candidato)\n",
    "\n",
    "        lista_candidatos = self.candidatos\n",
    "\n",
    "    def receber_votos(self, candidato, apartamento):\n",
    "        '''\n",
    "        Método para receber os votos dos moradores representados por apartamentos no candidato escolhido\n",
    "\n",
    "        Parametros\n",
    "        -----\n",
    "        candidato = int\n",
    "            Número identificador do candidato escolhido pelo morador\n",
    "        apartamento = int\n",
    "            Número do apartamento do morador que está realizando o voto\n",
    "        '''\n",
    "\n",
    "        self.id_candidato = candidato\n",
    "        self.apartamento = apartamento\n",
    "        sistema.apartamentos[self.apartamento].voto = True\n",
    "        candidato.votos+=1\n",
    "        \n"
   ]
  },
  {
   "cell_type": "markdown",
   "metadata": {
    "id": "PYqu_TYPewaQ"
   },
   "source": [
    "## O programa principal\n",
    "\n",
    "Seu programa principal terá 3 etapas - fique à vontade para modularizar essas etapas com o auxílio de funções, ou mesmo utilizar outras classes se julgar necessário.\n",
    "\n",
    "* Cadastro: o programa deverá ler informações sobre cada pessoa e ir criando os objetos Morador/Candidato e Apartamento correspondentes. Lembre-se de sempre perguntar se a próxima pessoa a ser lida é ou não candidata para decidir a melhor forma de instanciá-la no sistema.\n",
    "\n",
    "* Configuração: o programa deverá utilizar as informações obtidasna etapa anterior para criar uma urna.\n",
    "\n",
    "* Votação: o programa ficará em loop permitindo que diferentes moradores votem (ou tentem votar). Nessa etapa, o programa deve ser capaz de identificar qual o morador votando e utilizar os métodos criados previamente para realizar o voto. Quando a classe Urna informar que a votação acabou, o loop deve ser encerrado."
   ]
  },
  {
   "cell_type": "code",
   "execution_count": 11,
   "metadata": {
    "id": "_emmYOnKyMrP"
   },
   "outputs": [],
   "source": [
    "\n",
    "\n",
    "class Sistema:\n",
    "    def __init__(self):\n",
    "        '''\n",
    "        Construtor\n",
    "\n",
    "        '''\n",
    "        #atributos\n",
    "        self.residentes = {}\n",
    "        self.candidatos = {}\n",
    "        self.apartamentos = {}\n",
    "        self.edificio = {}\n",
    "        \n",
    "    def cadastra_morador(self, cpf=None, nome=None, apartamento=None,voto=False):\n",
    "        '''\n",
    "        Método para cadastrar um candidato\n",
    "        --------\n",
    "        Parâmetros\n",
    "        \n",
    "        cpf = int\n",
    "            CPF do candidato a ser cadastrado\n",
    "        nome = str\n",
    "            nome do candidato a ser cadastrado\n",
    "        apartamento = int\n",
    "            numero do apartamento do candidato a ser cadastrado\n",
    "        voto = bool\n",
    "            indica se o voto do candidato já foi computado\n",
    "\n",
    "        '''\n",
    "        #Define se é candidato\n",
    "        check = input('Deseja cadastrar um morador ou um Candidato? M - Morador // C - Candidato').upper()\n",
    "        \n",
    "        while check != 'M' and check != 'C':\n",
    "            check = input('Opção incorreta! Digite apenas M ou C.\\nDeseja cadastrar um morador ou um Candidato? M - Morador // C - Candidato').upper()\n",
    "            \n",
    "        if check == 'C':\n",
    "            if nome == None:            \n",
    "                nome = input(\"Insira o nome do candidato: \")\n",
    "            \n",
    "            if apartamento == None:\n",
    "                apartamento = input(\"Insira o número do apartamento (apenas números): \")\n",
    "                \n",
    "                while apartamento.isdigit() == False:\n",
    "                    apartamento = input(\"Apartamento inválido!\\n Por favor, insira o NÚMERO do apartamento (apenas números): \")   \n",
    "\n",
    "            if cpf == None:\n",
    "                while  True:\n",
    "                    try:\n",
    "                        cpf = int(input(\"Insira o número do CPF (apenas números): \"))\n",
    "                        break\n",
    "                    except ValueError:\n",
    "                        print('O CPF deve ser um número inteiro e ser válido!')\n",
    "            \n",
    "            else:\n",
    "                if type(cpf) != int:\n",
    "                    while True:\n",
    "                        try:\n",
    "                            cpf = int(input(\"Insira o número do CPF (apenas números): \"))\n",
    "                            break\n",
    "                        except ValueError:\n",
    "                            print('O CPF deve ser um número inteiro e ser válido!')\n",
    "\n",
    "\n",
    "            if cpf in sistema.residentes.keys():\n",
    "                return 'O CPF ja está cadastrado no prédio. Cadastro abortado.' \n",
    "\n",
    "            #Cria Candidato\n",
    "            candidato = Candidato(cpf=cpf, nome=nome, apartamento=apartamento, voto=voto)        \n",
    "            lista_candidatos.append(candidato.nome)\n",
    "            self.candidatos[cpf] = candidato\n",
    "            self.edificio[cpf] = candidato\n",
    "        else:           \n",
    "            if nome == None:            \n",
    "                nome = input(\"Insira o nome do morador: \")\n",
    "            \n",
    "            if apartamento == None:\n",
    "                apartamento = input(\"Insira o número do apartamento (apenas números): \")\n",
    "                \n",
    "                while apartamento.isdigit() == False:\n",
    "                    apartamento = input(\"Apartamento inválido!\\n Por favor, insira o NÚMERO do apartamento (apenas números): \")   \n",
    "\n",
    "            if cpf == None:\n",
    "                while  True:\n",
    "                    try:\n",
    "                        cpf = int(input(\"Insira o número do CPF (apenas números): \"))\n",
    "                        break\n",
    "                    except ValueError:\n",
    "                        print('O CPF deve ser um número inteiro e ser válido!')\n",
    "            \n",
    "            else:\n",
    "                if type(cpf) != int:\n",
    "                    while True:\n",
    "                        try:\n",
    "                            cpf = int(input(\"Insira o número do CPF (apenas números): \"))\n",
    "                            break\n",
    "                        except ValueError:\n",
    "                            print('O CPF deve ser um número inteiro e ser válido!')\n",
    "\n",
    "\n",
    "            if cpf in sistema.residentes.keys():\n",
    "                return 'O CPF ja está cadastrado no prédio. Cadastro abortado.'   \n",
    "\n",
    "            #Cria Morador\n",
    "            morador = Morador(cpf=cpf, nome=nome, apartamento=apartamento, voto=voto) \n",
    "            self.residentes[cpf] = morador\n",
    "            self.edificio[cpf] = morador\n",
    "        \n",
    "        #CriaApartamento caso não exista\n",
    "        apt_morador = apartamento\n",
    "\n",
    "        if apt_morador not in lista_apts:\n",
    "            lista_apts.append(apt_morador)\n",
    "            apt = Apartamento(n_apt=apartamento, moradores=[], voto=False)\n",
    "            self.apartamentos[apt_morador] = apt\n",
    "\n",
    "        #Append a lista de moradores daquele apartamento\n",
    "        if check == 'M':\n",
    "            # Primeira forma que realizamos sem o método da classe apartamento.\n",
    "            # self.apartamentos[apt_morador].moradores.append(morador.nome)\n",
    "            self.apartamentos[apt_morador].cadastrar_morador(morador)\n",
    "        else:\n",
    "            # Primeira forma que realizamos sem o método da classe apartamento.\n",
    "            #self.apartamentos[apt_morador].moradores.append(candidato.nome)\n",
    "            self.apartamentos[apt_morador].cadastrar_morador(candidato)"
   ]
  },
  {
   "cell_type": "code",
   "execution_count": 13,
   "metadata": {
    "id": "t18HSDC9yMrQ",
    "outputId": "8b350832-ea76-49a6-cda8-bfbd8b21081e"
   },
   "outputs": [
    {
     "name": "stdin",
     "output_type": "stream",
     "text": [
      "Deseja cadastrar um morador ou um Candidato? M - Morador // C - Candidato M\n",
      "Insira o nome do morador:  Lucas\n",
      "Insira o número do apartamento (apenas números):  301\n",
      "Insira o número do CPF (apenas números):  1233123331\n",
      "Deseja cadastrar um morador ou um Candidato? M - Morador // C - Candidato C\n",
      "Insira o nome do candidato:  Alvaro\n",
      "Insira o número do apartamento (apenas números):  302\n",
      "Insira o número do CPF (apenas números):  112233112233\n",
      "Deseja cadastrar um morador ou um Candidato? M - Morador // C - Candidato M\n",
      "Deseja cadastrar um morador ou um Candidato? M - Morador // C - Candidato M\n",
      "Deseja cadastrar um morador ou um Candidato? M - Morador // C - Candidato C\n",
      "Deseja cadastrar um morador ou um Candidato? M - Morador // C - Candidato C\n",
      "Deseja cadastrar um morador ou um Candidato? M - Morador // C - Candidato M\n",
      "Deseja cadastrar um morador ou um Candidato? M - Morador // C - Candidato M\n",
      "Deseja cadastrar um morador ou um Candidato? M - Morador // C - Candidato C\n",
      "Deseja cadastrar um morador ou um Candidato? M - Morador // C - Candidato M\n",
      "Deseja cadastrar um morador ou um Candidato? M - Morador // C - Candidato M\n",
      "Deseja cadastrar um morador ou um Candidato? M - Morador // C - Candidato C\n",
      "Deseja cadastrar um morador ou um Candidato? M - Morador // C - Candidato M\n",
      "Deseja cadastrar um morador ou um Candidato? M - Morador // C - Candidato C\n",
      "Deseja cadastrar um morador ou um Candidato? M - Morador // C - Candidato M\n",
      "Deseja cadastrar um morador ou um Candidato? M - Morador // C - Candidato C\n",
      "Deseja cadastrar um morador ou um Candidato? M - Morador // C - Candidato C\n"
     ]
    }
   ],
   "source": [
    "#Configuração\n",
    "lista_apts = []\n",
    "lista_candidatos = []\n",
    "sistema = Sistema()\n",
    "\n",
    "\n",
    "#Cadastro de \n",
    "sistema.cadastra_morador()\n",
    "sistema.cadastra_morador()\n",
    "sistema.cadastra_morador(54930020402, 'Guilherme', 1)\n",
    "sistema.cadastra_morador(11139432932, 'Luis', 2)\n",
    "sistema.cadastra_morador(21395923210, 'Jorge', 3)\n",
    "sistema.cadastra_morador(10012395823, 'Miguel', 4)\n",
    "sistema.cadastra_morador(43953032032, 'Ana', 5)\n",
    "sistema.cadastra_morador(23121233534, 'Caue', 6)\n",
    "sistema.cadastra_morador(11234525352, 'Beatriz', 6)\n",
    "sistema.cadastra_morador(23123243534, 'Fabiana', 7)\n",
    "sistema.cadastra_morador(23123243533, 'Fabiano', 7)\n",
    "sistema.cadastra_morador(43254533432, 'Mariana', 8)\n",
    "sistema.cadastra_morador(23534333432, 'Fabricio', 8)\n",
    "sistema.cadastra_morador(94923929101, 'Ana', 9)\n",
    "sistema.cadastra_morador(43940123949, 'Barbara', 10)\n",
    "sistema.cadastra_morador(92482042032, 'Barbaro', 10)\n",
    "sistema.cadastra_morador(43940123949, 'Amanda', 11)\n",
    "\n",
    "# Urna\n",
    "urna = Urna(sistema)\n",
    "urna.atribuir_id_candidatos()\n"
   ]
  },
  {
   "cell_type": "code",
   "execution_count": 14,
   "metadata": {
    "id": "9hY1Pk3AewaR",
    "outputId": "a9f0eed0-1c78-476c-d2da-0d2931d18375"
   },
   "outputs": [
    {
     "name": "stdout",
     "output_type": "stream",
     "text": [
      "ELEIÇÃO PRÉDIO\n",
      "-------------\n",
      "Nome ----- ID\n",
      "-------------\n",
      "Alvaro 100\n",
      "Jorge 101\n",
      "Miguel 102\n",
      "Beatriz 103\n",
      "Mariana 104\n",
      "Ana 105\n",
      "Barbaro 106\n",
      "-------------\n"
     ]
    },
    {
     "name": "stdin",
     "output_type": "stream",
     "text": [
      "Morador: Lucas - Apartamento: 301\n",
      "Informe o candidato desejado:  102\n"
     ]
    },
    {
     "name": "stdout",
     "output_type": "stream",
     "text": [
      "Lucas votou.\n",
      "-------------\n"
     ]
    },
    {
     "name": "stdin",
     "output_type": "stream",
     "text": [
      "Morador: Alvaro - Apartamento: 302\n",
      "Informe o candidato desejado:  100\n"
     ]
    },
    {
     "name": "stdout",
     "output_type": "stream",
     "text": [
      "Alvaro votou.\n",
      "-------------\n"
     ]
    },
    {
     "name": "stdin",
     "output_type": "stream",
     "text": [
      "Morador: Guilherme - Apartamento: 1\n",
      "Informe o candidato desejado:  102\n"
     ]
    },
    {
     "name": "stdout",
     "output_type": "stream",
     "text": [
      "Guilherme votou.\n",
      "-------------\n"
     ]
    },
    {
     "name": "stdin",
     "output_type": "stream",
     "text": [
      "Morador: Luis - Apartamento: 2\n",
      "Informe o candidato desejado:  104\n"
     ]
    },
    {
     "name": "stdout",
     "output_type": "stream",
     "text": [
      "Luis votou.\n",
      "-------------\n"
     ]
    },
    {
     "name": "stdin",
     "output_type": "stream",
     "text": [
      "Morador: Jorge - Apartamento: 3\n",
      "Informe o candidato desejado:  104\n"
     ]
    },
    {
     "name": "stdout",
     "output_type": "stream",
     "text": [
      "Jorge votou.\n",
      "-------------\n"
     ]
    },
    {
     "name": "stdin",
     "output_type": "stream",
     "text": [
      "Morador: Miguel - Apartamento: 4\n",
      "Informe o candidato desejado:  104\n"
     ]
    },
    {
     "name": "stdout",
     "output_type": "stream",
     "text": [
      "Miguel votou.\n",
      "-------------\n"
     ]
    },
    {
     "name": "stdin",
     "output_type": "stream",
     "text": [
      "Morador: Ana - Apartamento: 5\n",
      "Informe o candidato desejado:  105\n"
     ]
    },
    {
     "name": "stdout",
     "output_type": "stream",
     "text": [
      "Ana votou.\n",
      "-------------\n"
     ]
    },
    {
     "name": "stdin",
     "output_type": "stream",
     "text": [
      "Morador: Caue - Apartamento: 6\n",
      "Informe o candidato desejado:  104\n"
     ]
    },
    {
     "name": "stdout",
     "output_type": "stream",
     "text": [
      "Caue votou.\n",
      "-------------\n"
     ]
    },
    {
     "name": "stdin",
     "output_type": "stream",
     "text": [
      "Morador: Fabiana - Apartamento: 7\n",
      "Informe o candidato desejado:  104\n"
     ]
    },
    {
     "name": "stdout",
     "output_type": "stream",
     "text": [
      "Fabiana votou.\n",
      "-------------\n"
     ]
    },
    {
     "name": "stdin",
     "output_type": "stream",
     "text": [
      "Morador: Mariana - Apartamento: 8\n",
      "Informe o candidato desejado:  105\n"
     ]
    },
    {
     "name": "stdout",
     "output_type": "stream",
     "text": [
      "Mariana votou.\n",
      "-------------\n"
     ]
    },
    {
     "name": "stdin",
     "output_type": "stream",
     "text": [
      "Morador: Ana - Apartamento: 9\n",
      "Informe o candidato desejado:  102\n"
     ]
    },
    {
     "name": "stdout",
     "output_type": "stream",
     "text": [
      "Ana votou.\n",
      "-------------\n"
     ]
    },
    {
     "name": "stdin",
     "output_type": "stream",
     "text": [
      "Morador: Barbara - Apartamento: 10\n",
      "Informe o candidato desejado:  100\n"
     ]
    },
    {
     "name": "stdout",
     "output_type": "stream",
     "text": [
      "Barbara votou.\n",
      "-------------\n",
      "-------------\n",
      "RESULTADOS\n",
      "-------------\n",
      "\n",
      "O candidato vencedor é: Mariana\n",
      " Apartamento: 8\n",
      " Número de Votos: 5\n"
     ]
    }
   ],
   "source": [
    "# VotaçãO\n",
    "## Candidatos Disponíveis\n",
    "print('ELEIÇÃO PRÉDIO')\n",
    "print('-------------')\n",
    "print('Nome ----- ID')\n",
    "print('-------------')\n",
    "for candidato in sistema.candidatos.keys():\n",
    "    print(sistema.candidatos[candidato].nome, sistema.candidatos[candidato].id_candidato)\n",
    "print('-------------')\n",
    "\n",
    "while True:\n",
    "\n",
    "\n",
    "    ## Sistema de Votos por Residente\n",
    "    for residente in sistema.edificio.keys():\n",
    "        ap = sistema.edificio[residente].apartamento\n",
    "        \n",
    "        #Check se o ap Votou\n",
    "        if sistema.apartamentos[ap].voto == True:\n",
    "            continue\n",
    "            print(1)\n",
    "        \n",
    "        voto_morador = input(f'Morador: {sistema.edificio[residente].nome} - Apartamento: {sistema.edificio[residente].apartamento}\\nInforme o candidato desejado: ')\n",
    "        while not voto_morador.isdigit() or int(voto_morador) not in urna.candidatos:\n",
    "            voto_morador = input(f'Valor inválido! Morador: {sistema.edificio[residente].nome} - Apartamento: {sistema.edificio[residente].apartamento}\\nInforme o candidato desejado: ')\n",
    "\n",
    "        voto_morador = int(voto_morador)\n",
    "        # método votar da classe morador\n",
    "        sistema.edificio[residente].votar(urna, voto_morador)\n",
    "        print(f'{sistema.edificio[residente].nome} votou.')\n",
    "        print('-------------')\n",
    "    \n",
    "\n",
    "\n",
    "    ## Imprimir resultados\n",
    "    print('-------------')\n",
    "    print('RESULTADOS')\n",
    "    print('-------------')\n",
    "    list_candidatos_final = []\n",
    "    list_votos_final = []\n",
    "    for candidato in sistema.candidatos.keys():\n",
    "        list_votos_final.append(sistema.candidatos[candidato].votos)\n",
    "    max_votos = max(list_votos_final)\n",
    "\n",
    "    for candidato in sistema.candidatos.keys():\n",
    "        if sistema.candidatos[candidato].votos == max_votos:\n",
    "            list_candidatos_final.append(sistema.candidatos[candidato])\n",
    "\n",
    "    if len(list_candidatos_final) == 1:\n",
    "        print(f'\\nO candidato vencedor é: {list_candidatos_final[0].nome}\\n Apartamento: {list_candidatos_final[0].apartamento}\\n Número de Votos: {list_candidatos_final[0].votos}')\n",
    "\n",
    "    if len(list_candidatos_final) > 1:\n",
    "        print('Houve um empate entre os candidatos:')\n",
    "\n",
    "        for candidato in sistema.candidatos.keys():\n",
    "            print(f'Nome: {sistema.candidatos[candidato].nome}')\n",
    "            print(f'Apartamento: {sistema.candidatos[candidato].apartamento}')\n",
    "            print(f'Votos: {sistema.candidatos[candidato].votos}')\n",
    "            print('--')\n",
    "\n",
    "    break\n",
    "\n",
    "\n",
    "        "
   ]
  },
  {
   "cell_type": "markdown",
   "metadata": {
    "id": "qa5CIldxewaR"
   },
   "source": [
    "## Dicas\n",
    "\n",
    "* Métodos mágicos: no mínimo uma _representação imprimível_ dos objetos de cada classe seria desejável para facilitar a sua vida. No caso de um morador, podemos imprimir seu nome e número do apartamento. No caso de um candidato, poderíamos incluir o número da urna. No caso do apartamento, seria legal imprimir todos os moradores. E no caso da urna, podemos ter dois casos: antes da votação acabar, apenas a lista de apartamentos que já votou deveria ser impressa. Após o término da votação, ela deveria imprimir quantos votos cada candidato recebeu e qual deles venceu.\n",
    "\n",
    "* Arquivos e testes: note que vocês sempre foram orientados a passar dados por parâmetros **ou** digitá-los. Se você bolar um esquema inteligente com arquivos em formato padronizado (como CSV) e organizar direitinho seu programa principal, você consegue gerar um único arquivo com todos os moradores e suas respectivas informações (número do apartamento, se é ou não candidato e em quem gostaria de votar) e automatizar completamente as etapas do seu programa.\n",
    "\n",
    "* Segurança adicional: atualmente, cada apartamento armazena a informação se já votou ou não. Mas e se o apartamento pudesse alterar essa informação e enganar a urna? Você pode colocar uma camada redundante de segurança fazendo com que a urna TAMBÉM controle quais apartamentos já votaram. Mesmo que o apartamento diga que não votou, se a urna está registrando que ele votou, então um hipotético segundo voto deve ser recusado. Veja se consegue pensar em outras possíveis falhas de segurança em potencial no programa. Lembre-se sempre de pensar do ponto de vista de uma classe e \"desconfiar\" das outras.\n",
    "\n",
    "* Criatividade: os enunciados trazem o **mínimo** que você precisa fazer para que o seu programa funcione como foi planejado. Isso não impede que você crie outros métodos, acrescente informações que possam ser úteis e até mesmo crie outras classes para modelar melhor outros fatores que poderiam ser considerados na organização da sua eleição.\n"
   ]
  },
  {
   "cell_type": "markdown",
   "metadata": {
    "id": "wM8btcrhewaR"
   },
   "source": [
    "## Bônus: representação visual dos votos\n",
    "\n",
    "A função abaixo gera um gráfico de barras mostrando quantos votos cada candidato teve! Cole-a em sua classe Urna e faça os devidos ajustes para que ela use os atributos da Urna ao invés dos parâmetros utilizados. \n",
    "\n",
    "O programinha na célula seguinte apenas ilustra o funcionamento da função.\n"
   ]
  },
  {
   "cell_type": "code",
   "execution_count": 15,
   "metadata": {
    "id": "ZYXT9ixVewaR"
   },
   "outputs": [],
   "source": [
    "import matplotlib.pyplot as plt\n",
    "\n",
    "def graficoVotos(candidatos, votos):\n",
    "    plt.bar(candidatos, votos)\n",
    "    plt.title('Resultado das eleições')\n",
    "    plt.xlabel('Candidatos')\n",
    "    plt.ylabel('Votos')\n",
    "    "
   ]
  },
  {
   "cell_type": "code",
   "execution_count": 16,
   "metadata": {
    "id": "LKrdgNkByMrW"
   },
   "outputs": [],
   "source": [
    "lista_grafico_candidatos = []\n",
    "lista_grafico_votos = []\n",
    "\n",
    "for candidato in sistema.candidatos.keys():\n",
    "    lista_grafico_candidatos.append(sistema.candidatos[candidato].nome)\n",
    "    lista_grafico_votos.append(sistema.candidatos[candidato].votos)"
   ]
  },
  {
   "cell_type": "code",
   "execution_count": 17,
   "metadata": {
    "id": "15w6SoutewaS",
    "outputId": "771000bb-b9c7-469a-ab88-e36d05cb4522"
   },
   "outputs": [
    {
     "data": {
      "image/png": "[encoded data removed]",
      "text/plain": [
       "<Figure size 432x288 with 1 Axes>"
      ]
     },
     "metadata": {
      "needs_background": "light"
     },
     "output_type": "display_data"
    }
   ],
   "source": [
    "candidatos = lista_grafico_candidatos\n",
    "votos = lista_grafico_votos\n",
    "\n",
    "graficoVotos(candidatos, votos)"
   ]
  },
  {
   "cell_type": "code",
   "execution_count": null,
   "metadata": {},
   "outputs": [],
   "source": []
  }
 ],
 "metadata": {
  "colab": {
   "collapsed_sections": [
    "wM8btcrhewaR"
   ],
   "name": "ProjetoEleicaoCondominio.ipynb",
   "provenance": []
  },
  "interpreter": {
   "hash": "31cd6aa3b44cd67d313efe7b412ccbf4c217deaea0723bcc2097d4d2bdf47607"
  },
  "kernelspec": {
   "display_name": "Python 3",
   "language": "python",
   "name": "python3"
  },
  "language_info": {
   "codemirror_mode": {
    "name": "ipython",
    "version": 3
   },
   "file_extension": ".py",
   "mimetype": "text/x-python",
   "name": "python",
   "nbconvert_exporter": "python",
   "pygments_lexer": "ipython3",
   "version": "3.8.8"
  }
 },
 "nbformat": 4,
 "nbformat_minor": 4
}
